{
  "nbformat": 4,
  "nbformat_minor": 0,
  "metadata": {
    "kernelspec": {
      "display_name": "Python 3",
      "language": "python",
      "name": "python3"
    },
    "language_info": {
      "codemirror_mode": {
        "name": "ipython",
        "version": 3
      },
      "file_extension": ".py",
      "mimetype": "text/x-python",
      "name": "python",
      "nbconvert_exporter": "python",
      "pygments_lexer": "ipython3",
      "version": "3.7.3"
    },
    "colab": {
      "name": "Best_ML_Algorithm_For_CyberBullying.ipynb",
      "provenance": [],
      "include_colab_link": true
    }
  },
  "cells": [
    {
      "cell_type": "markdown",
      "metadata": {
        "id": "view-in-github",
        "colab_type": "text"
      },
      "source": [
        "<a href=\"https://colab.research.google.com/github/bloodkalsura/Best-ML-Algorithm-For-CyberBullying/blob/main/Best_ML_Algorithm_For_CyberBullying.ipynb\" target=\"_parent\"><img src=\"https://colab.research.google.com/assets/colab-badge.svg\" alt=\"Open In Colab\"/></a>"
      ]
    },
    {
      "cell_type": "code",
      "metadata": {
        "colab": {
          "base_uri": "https://localhost:8080/"
        },
        "id": "rg_JV3EcYy66",
        "outputId": "e3b2138c-baf6-485b-c0d2-a6aa358f0ece"
      },
      "source": [
        "import nltk\n",
        "nltk.download('stopwords')"
      ],
      "execution_count": 3,
      "outputs": [
        {
          "output_type": "stream",
          "text": [
            "[nltk_data] Downloading package stopwords to /root/nltk_data...\n",
            "[nltk_data]   Package stopwords is already up-to-date!\n"
          ],
          "name": "stdout"
        },
        {
          "output_type": "execute_result",
          "data": {
            "text/plain": [
              "True"
            ]
          },
          "metadata": {
            "tags": []
          },
          "execution_count": 3
        }
      ]
    },
    {
      "cell_type": "code",
      "metadata": {
        "colab": {
          "base_uri": "https://localhost:8080/",
          "height": 203
        },
        "id": "M5ZIVoTKW5xr",
        "outputId": "91212076-89bf-4ef6-bc4f-fb4f170d0b4a"
      },
      "source": [
        "import pandas as pd\n",
        "from nltk.corpus import stopwords \n",
        "import string\n",
        "data=pd.read_csv('public_data_labeled.csv')\n",
        "df=pd.DataFrame(data)\n",
        "df.head()"
      ],
      "execution_count": 4,
      "outputs": [
        {
          "output_type": "execute_result",
          "data": {
            "text/html": [
              "<div>\n",
              "<style scoped>\n",
              "    .dataframe tbody tr th:only-of-type {\n",
              "        vertical-align: middle;\n",
              "    }\n",
              "\n",
              "    .dataframe tbody tr th {\n",
              "        vertical-align: top;\n",
              "    }\n",
              "\n",
              "    .dataframe thead th {\n",
              "        text-align: right;\n",
              "    }\n",
              "</style>\n",
              "<table border=\"1\" class=\"dataframe\">\n",
              "  <thead>\n",
              "    <tr style=\"text-align: right;\">\n",
              "      <th></th>\n",
              "      <th>label</th>\n",
              "      <th>full_text</th>\n",
              "    </tr>\n",
              "  </thead>\n",
              "  <tbody>\n",
              "    <tr>\n",
              "      <th>0</th>\n",
              "      <td>Non-offensive</td>\n",
              "      <td>!!! RT @mayasolovely: As a woman you shouldn't...</td>\n",
              "    </tr>\n",
              "    <tr>\n",
              "      <th>1</th>\n",
              "      <td>Offensive</td>\n",
              "      <td>!!!!! RT @mleew17: boy dats cold...tyga dwn ba...</td>\n",
              "    </tr>\n",
              "    <tr>\n",
              "      <th>2</th>\n",
              "      <td>Offensive</td>\n",
              "      <td>!!!!!!! RT @UrKindOfBrand Dawg!!!! RT @80sbaby...</td>\n",
              "    </tr>\n",
              "    <tr>\n",
              "      <th>3</th>\n",
              "      <td>Offensive</td>\n",
              "      <td>!!!!!!!!! RT @C_G_Anderson: @viva_based she lo...</td>\n",
              "    </tr>\n",
              "    <tr>\n",
              "      <th>4</th>\n",
              "      <td>Offensive</td>\n",
              "      <td>!!!!!!!!!!!!! RT @ShenikaRoberts: The shit you...</td>\n",
              "    </tr>\n",
              "  </tbody>\n",
              "</table>\n",
              "</div>"
            ],
            "text/plain": [
              "           label                                          full_text\n",
              "0  Non-offensive  !!! RT @mayasolovely: As a woman you shouldn't...\n",
              "1      Offensive  !!!!! RT @mleew17: boy dats cold...tyga dwn ba...\n",
              "2      Offensive  !!!!!!! RT @UrKindOfBrand Dawg!!!! RT @80sbaby...\n",
              "3      Offensive  !!!!!!!!! RT @C_G_Anderson: @viva_based she lo...\n",
              "4      Offensive  !!!!!!!!!!!!! RT @ShenikaRoberts: The shit you..."
            ]
          },
          "metadata": {
            "tags": []
          },
          "execution_count": 4
        }
      ]
    },
    {
      "cell_type": "code",
      "metadata": {
        "colab": {
          "base_uri": "https://localhost:8080/"
        },
        "id": "GUStXMaUW5xs",
        "outputId": "a5fff825-ccc7-4f58-c293-38f1d2c72131"
      },
      "source": [
        "from sklearn.preprocessing import LabelEncoder\n",
        "lr=LabelEncoder()\n",
        "df['label']=lr.fit_transform(df['label'])\n",
        "df['label'].head()"
      ],
      "execution_count": 5,
      "outputs": [
        {
          "output_type": "execute_result",
          "data": {
            "text/plain": [
              "0    0\n",
              "1    1\n",
              "2    1\n",
              "3    1\n",
              "4    1\n",
              "Name: label, dtype: int64"
            ]
          },
          "metadata": {
            "tags": []
          },
          "execution_count": 5
        }
      ]
    },
    {
      "cell_type": "code",
      "metadata": {
        "colab": {
          "base_uri": "https://localhost:8080/",
          "height": 35
        },
        "id": "D2W_fzo0W5xs",
        "outputId": "da1ae9c9-a8c9-4a02-dcdf-0176386ab6d5"
      },
      "source": [
        "x=df['full_text'][0]\n",
        "x"
      ],
      "execution_count": 6,
      "outputs": [
        {
          "output_type": "execute_result",
          "data": {
            "application/vnd.google.colaboratory.intrinsic+json": {
              "type": "string"
            },
            "text/plain": [
              "\"!!! RT @mayasolovely: As a woman you shouldn't complain about cleaning up your house. &amp; as a man you should always take the trash out...\""
            ]
          },
          "metadata": {
            "tags": []
          },
          "execution_count": 6
        }
      ]
    },
    {
      "cell_type": "code",
      "metadata": {
        "id": "Kskj89MtW5xt"
      },
      "source": [
        "import matplotlib.pyplot as plt\n",
        "import seaborn as sns\n",
        "%matplotlib inline"
      ],
      "execution_count": 7,
      "outputs": []
    },
    {
      "cell_type": "code",
      "metadata": {
        "colab": {
          "base_uri": "https://localhost:8080/",
          "height": 282
        },
        "id": "YrnkB2I-W5xt",
        "outputId": "335d5ddb-6770-4d9b-bcc3-811a062107dc"
      },
      "source": [
        "X=df['full_text'].apply(len)\n",
        "X.plot.hist(bins=100)"
      ],
      "execution_count": 8,
      "outputs": [
        {
          "output_type": "execute_result",
          "data": {
            "text/plain": [
              "<matplotlib.axes._subplots.AxesSubplot at 0x7f5d72840850>"
            ]
          },
          "metadata": {
            "tags": []
          },
          "execution_count": 8
        },
        {
          "output_type": "display_data",
          "data": {
            "image/png": "[encoded data removed]",
            "text/plain": [
              "<Figure size 432x288 with 1 Axes>"
            ]
          },
          "metadata": {
            "tags": [],
            "needs_background": "light"
          }
        }
      ]
    },
    {
      "cell_type": "code",
      "metadata": {
        "colab": {
          "base_uri": "https://localhost:8080/",
          "height": 282
        },
        "id": "_7ZwwmGXW5xt",
        "outputId": "20f9cda0-e661-4c6f-d9a0-66f0d5b6cb9e"
      },
      "source": [
        "df['label'].plot.hist(bins=100)"
      ],
      "execution_count": 9,
      "outputs": [
        {
          "output_type": "execute_result",
          "data": {
            "text/plain": [
              "<matplotlib.axes._subplots.AxesSubplot at 0x7f5d7264d650>"
            ]
          },
          "metadata": {
            "tags": []
          },
          "execution_count": 9
        },
        {
          "output_type": "display_data",
          "data": {
            "image/png": "[encoded data removed]",
            "text/plain": [
              "<Figure size 432x288 with 1 Axes>"
            ]
          },
          "metadata": {
            "tags": [],
            "needs_background": "light"
          }
        }
      ]
    },
    {
      "cell_type": "code",
      "metadata": {
        "id": "6AQ54jM_W5xu"
      },
      "source": [
        "def text_preprocessing(mess):\n",
        "    nopunc=[char for char in mess if char not in string.punctuation]\n",
        "    nopunc=''.join(nopunc)\n",
        "    \n",
        "    return [word for word in nopunc.split() if word.lower() not in stopwords.words('english')]\n"
      ],
      "execution_count": 10,
      "outputs": []
    },
    {
      "cell_type": "code",
      "metadata": {
        "colab": {
          "base_uri": "https://localhost:8080/"
        },
        "id": "ic_UVXmRW5xu",
        "outputId": "8f3734d6-1ce7-4123-96d6-f6a8e1b4e563"
      },
      "source": [
        "df['full_text'].head().apply(text_preprocessing)"
      ],
      "execution_count": 11,
      "outputs": [
        {
          "output_type": "execute_result",
          "data": {
            "text/plain": [
              "0    [RT, mayasolovely, woman, shouldnt, complain, ...\n",
              "1    [RT, mleew17, boy, dats, coldtyga, dwn, bad, c...\n",
              "2    [RT, UrKindOfBrand, Dawg, RT, 80sbaby4life, ev...\n",
              "3      [RT, CGAnderson, vivabased, look, like, tranny]\n",
              "4    [RT, ShenikaRoberts, shit, hear, might, true, ...\n",
              "Name: full_text, dtype: object"
            ]
          },
          "metadata": {
            "tags": []
          },
          "execution_count": 11
        }
      ]
    },
    {
      "cell_type": "code",
      "metadata": {
        "id": "6Gnbho4bW5xu"
      },
      "source": [
        "from sklearn.feature_extraction.text import CountVectorizer "
      ],
      "execution_count": 12,
      "outputs": []
    },
    {
      "cell_type": "code",
      "metadata": {
        "colab": {
          "base_uri": "https://localhost:8080/"
        },
        "id": "RZAsJk53W5xx",
        "outputId": "ba10885c-7393-480e-82d2-b06b40030cf4"
      },
      "source": [
        "count_vect=CountVectorizer(analyzer=text_preprocessing).fit(df['full_text'])\n",
        "count_vect"
      ],
      "execution_count": 13,
      "outputs": [
        {
          "output_type": "execute_result",
          "data": {
            "text/plain": [
              "CountVectorizer(analyzer=<function text_preprocessing at 0x7f5d72054170>,\n",
              "                binary=False, decode_error='strict',\n",
              "                dtype=<class 'numpy.int64'>, encoding='utf-8', input='content',\n",
              "                lowercase=True, max_df=1.0, max_features=None, min_df=1,\n",
              "                ngram_range=(1, 1), preprocessor=None, stop_words=None,\n",
              "                strip_accents=None, token_pattern='(?u)\\\\b\\\\w\\\\w+\\\\b',\n",
              "                tokenizer=None, vocabulary=None)"
            ]
          },
          "metadata": {
            "tags": []
          },
          "execution_count": 13
        }
      ]
    },
    {
      "cell_type": "code",
      "metadata": {
        "colab": {
          "base_uri": "https://localhost:8080/"
        },
        "id": "vcGC8OJbW5xx",
        "outputId": "1c253fbf-3d81-4824-b21b-63ca8ebb46b7"
      },
      "source": [
        "tweet_bow=count_vect.transform(df['full_text'])\n",
        "tweet_bow"
      ],
      "execution_count": 14,
      "outputs": [
        {
          "output_type": "execute_result",
          "data": {
            "text/plain": [
              "<24783x45750 sparse matrix of type '<class 'numpy.int64'>'\n",
              "\twith 219896 stored elements in Compressed Sparse Row format>"
            ]
          },
          "metadata": {
            "tags": []
          },
          "execution_count": 14
        }
      ]
    },
    {
      "cell_type": "code",
      "metadata": {
        "id": "MQEXtR8lW5xy"
      },
      "source": [
        "from sklearn.feature_extraction.text import TfidfTransformer"
      ],
      "execution_count": 15,
      "outputs": []
    },
    {
      "cell_type": "code",
      "metadata": {
        "colab": {
          "base_uri": "https://localhost:8080/"
        },
        "id": "mGED_T4FW5xy",
        "outputId": "dbd801ca-d3aa-40d1-9686-582f560f4a8e"
      },
      "source": [
        "tfidf_transformer=TfidfTransformer().fit(tweet_bow)\n",
        "tfidf_transformer"
      ],
      "execution_count": 16,
      "outputs": [
        {
          "output_type": "execute_result",
          "data": {
            "text/plain": [
              "TfidfTransformer(norm='l2', smooth_idf=True, sublinear_tf=False, use_idf=True)"
            ]
          },
          "metadata": {
            "tags": []
          },
          "execution_count": 16
        }
      ]
    },
    {
      "cell_type": "code",
      "metadata": {
        "colab": {
          "base_uri": "https://localhost:8080/"
        },
        "id": "asmFKC2JW5xy",
        "outputId": "c239b813-c639-49a8-fffe-c85858acb0ec"
      },
      "source": [
        "tweet_tfidf=tfidf_transformer.transform(tweet_bow)\n",
        "tweet_tfidf"
      ],
      "execution_count": 17,
      "outputs": [
        {
          "output_type": "execute_result",
          "data": {
            "text/plain": [
              "<24783x45750 sparse matrix of type '<class 'numpy.float64'>'\n",
              "\twith 219896 stored elements in Compressed Sparse Row format>"
            ]
          },
          "metadata": {
            "tags": []
          },
          "execution_count": 17
        }
      ]
    },
    {
      "cell_type": "code",
      "metadata": {
        "id": "gMRbXhf2W5xy"
      },
      "source": [
        "from sklearn.model_selection import train_test_split\n",
        "x_train,x_test,y_train,y_test=train_test_split(tweet_tfidf,df['label'],test_size=0.1)"
      ],
      "execution_count": 18,
      "outputs": []
    },
    {
      "cell_type": "code",
      "metadata": {
        "colab": {
          "base_uri": "https://localhost:8080/"
        },
        "id": "v3_ZFgn6W5xz",
        "outputId": "d918785f-51cc-4666-ef21-026f58a5895c"
      },
      "source": [
        "from sklearn.naive_bayes import MultinomialNB\n",
        "mnb=MultinomialNB()\n",
        "mnb.fit(x_train,y_train)"
      ],
      "execution_count": 19,
      "outputs": [
        {
          "output_type": "execute_result",
          "data": {
            "text/plain": [
              "MultinomialNB(alpha=1.0, class_prior=None, fit_prior=True)"
            ]
          },
          "metadata": {
            "tags": []
          },
          "execution_count": 19
        }
      ]
    },
    {
      "cell_type": "code",
      "metadata": {
        "colab": {
          "base_uri": "https://localhost:8080/"
        },
        "id": "YzZkq2-rW5xz",
        "outputId": "067c7861-9b35-4c6f-8823-6828ca3cd468"
      },
      "source": [
        "prediction=mnb.predict(x_test)\n",
        "prediction[:50]"
      ],
      "execution_count": 20,
      "outputs": [
        {
          "output_type": "execute_result",
          "data": {
            "text/plain": [
              "array([1, 1, 1, 0, 1, 1, 1, 1, 1, 1, 1, 1, 1, 1, 1, 1, 1, 1, 1, 1, 1, 1,\n",
              "       1, 1, 1, 1, 1, 1, 1, 1, 1, 1, 1, 1, 1, 1, 1, 1, 1, 1, 1, 1, 1, 1,\n",
              "       1, 1, 1, 1, 1, 1])"
            ]
          },
          "metadata": {
            "tags": []
          },
          "execution_count": 20
        }
      ]
    },
    {
      "cell_type": "code",
      "metadata": {
        "colab": {
          "base_uri": "https://localhost:8080/"
        },
        "id": "Esn0UsYOW5xz",
        "outputId": "f9c1e533-5cee-4377-9fcb-14a58bfd82b8"
      },
      "source": [
        "from sklearn.metrics import accuracy_score\n",
        "acc=accuracy_score(y_test,prediction)\n",
        "acc"
      ],
      "execution_count": 21,
      "outputs": [
        {
          "output_type": "execute_result",
          "data": {
            "text/plain": [
              "0.8600242033077854"
            ]
          },
          "metadata": {
            "tags": []
          },
          "execution_count": 21
        }
      ]
    },
    {
      "cell_type": "code",
      "metadata": {
        "colab": {
          "base_uri": "https://localhost:8080/"
        },
        "id": "kF77QBMfW5xz",
        "outputId": "30463e68-9843-4402-b7f6-75ab6c228e06"
      },
      "source": [
        "from sklearn.metrics import classification_report\n",
        "print(classification_report(y_test,prediction))"
      ],
      "execution_count": 22,
      "outputs": [
        {
          "output_type": "stream",
          "text": [
            "              precision    recall  f1-score   support\n",
            "\n",
            "           0       0.96      0.14      0.24       400\n",
            "           1       0.86      1.00      0.92      2079\n",
            "\n",
            "    accuracy                           0.86      2479\n",
            "   macro avg       0.91      0.57      0.58      2479\n",
            "weighted avg       0.87      0.86      0.81      2479\n",
            "\n"
          ],
          "name": "stdout"
        }
      ]
    },
    {
      "cell_type": "code",
      "metadata": {
        "colab": {
          "base_uri": "https://localhost:8080/"
        },
        "id": "oBjVy0dYW5xz",
        "outputId": "40009330-c3d1-40f5-9c29-f8511c84e4cd"
      },
      "source": [
        "from sklearn.metrics import precision_score, recall_score, confusion_matrix, classification_report,accuracy_score, f1_score\n",
        "y_bar=['accuracy_score', 'f1_score', 'recall_score', 'precision_score']\n",
        "x_bar=[accuracy_score(y_test, prediction),f1_score(y_test, prediction) ,recall_score(y_test, prediction) , precision_score(y_test, prediction)]\n",
        "y_bar"
      ],
      "execution_count": 23,
      "outputs": [
        {
          "output_type": "execute_result",
          "data": {
            "text/plain": [
              "['accuracy_score', 'f1_score', 'recall_score', 'precision_score']"
            ]
          },
          "metadata": {
            "tags": []
          },
          "execution_count": 23
        }
      ]
    },
    {
      "cell_type": "code",
      "metadata": {
        "colab": {
          "base_uri": "https://localhost:8080/",
          "height": 337
        },
        "id": "nUqRyFJgW5x0",
        "outputId": "17c04cf2-536f-4295-8e29-c71f28f45381"
      },
      "source": [
        "import matplotlib.pyplot as plt\n",
        "fig = plt.figure()\n",
        "ax = fig.add_axes([0,0,1,1])\n",
        "ax.bar(y_bar,x_bar)\n",
        "plt.show()"
      ],
      "execution_count": 24,
      "outputs": [
        {
          "output_type": "display_data",
          "data": {
            "image/png": "[encoded data removed]",
            "text/plain": [
              "<Figure size 432x288 with 1 Axes>"
            ]
          },
          "metadata": {
            "tags": [],
            "needs_background": "light"
          }
        }
      ]
    },
    {
      "cell_type": "code",
      "metadata": {
        "colab": {
          "base_uri": "https://localhost:8080/"
        },
        "id": "j-t2cLkOW5x0",
        "outputId": "86ee9d08-f2b9-4139-9184-8c2f627b02a7"
      },
      "source": [
        "from sklearn.linear_model import LogisticRegression\n",
        "lm=LogisticRegression()\n",
        "lm.fit(x_train,y_train)"
      ],
      "execution_count": 25,
      "outputs": [
        {
          "output_type": "execute_result",
          "data": {
            "text/plain": [
              "LogisticRegression(C=1.0, class_weight=None, dual=False, fit_intercept=True,\n",
              "                   intercept_scaling=1, l1_ratio=None, max_iter=100,\n",
              "                   multi_class='auto', n_jobs=None, penalty='l2',\n",
              "                   random_state=None, solver='lbfgs', tol=0.0001, verbose=0,\n",
              "                   warm_start=False)"
            ]
          },
          "metadata": {
            "tags": []
          },
          "execution_count": 25
        }
      ]
    },
    {
      "cell_type": "code",
      "metadata": {
        "id": "lDHxUVKnW5x0"
      },
      "source": [
        "prediction2=lm.predict(x_test)"
      ],
      "execution_count": 26,
      "outputs": []
    },
    {
      "cell_type": "code",
      "metadata": {
        "colab": {
          "base_uri": "https://localhost:8080/"
        },
        "id": "rl74x8NyW5x0",
        "outputId": "1295ebd4-71cd-4b71-dfc9-4f43b8c7a305"
      },
      "source": [
        "from sklearn.metrics import accuracy_score\n",
        "acc2=accuracy_score(y_test,prediction2)\n",
        "acc2"
      ],
      "execution_count": 27,
      "outputs": [
        {
          "output_type": "execute_result",
          "data": {
            "text/plain": [
              "0.9298104074223478"
            ]
          },
          "metadata": {
            "tags": []
          },
          "execution_count": 27
        }
      ]
    },
    {
      "cell_type": "code",
      "metadata": {
        "colab": {
          "base_uri": "https://localhost:8080/"
        },
        "id": "H-h2W0Z3W5x1",
        "outputId": "7dd32fa7-9256-4721-fd02-e80abd79e18d"
      },
      "source": [
        "from sklearn.metrics import precision_score, recall_score, confusion_matrix, classification_report,accuracy_score, f1_score\n",
        "y_bar2=['accuracy_score', 'f1_score', 'recall_score', 'precision_score']\n",
        "x_bar2=[accuracy_score(y_test, prediction2),f1_score(y_test, prediction2) ,recall_score(y_test, prediction2) , precision_score(y_test, prediction2)]\n",
        "y_bar2"
      ],
      "execution_count": 28,
      "outputs": [
        {
          "output_type": "execute_result",
          "data": {
            "text/plain": [
              "['accuracy_score', 'f1_score', 'recall_score', 'precision_score']"
            ]
          },
          "metadata": {
            "tags": []
          },
          "execution_count": 28
        }
      ]
    },
    {
      "cell_type": "code",
      "metadata": {
        "colab": {
          "base_uri": "https://localhost:8080/",
          "height": 337
        },
        "id": "_iiMqVF_W5x1",
        "outputId": "bd4c47e3-2d82-456a-8a80-95aa55d1dd65"
      },
      "source": [
        "import matplotlib.pyplot as plt\n",
        "fig = plt.figure()\n",
        "ax = fig.add_axes([0,0,1,1])\n",
        "ax.bar(y_bar2,x_bar2)\n",
        "plt.show()"
      ],
      "execution_count": 29,
      "outputs": [
        {
          "output_type": "display_data",
          "data": {
            "image/png": "[encoded data removed]",
            "text/plain": [
              "<Figure size 432x288 with 1 Axes>"
            ]
          },
          "metadata": {
            "tags": [],
            "needs_background": "light"
          }
        }
      ]
    },
    {
      "cell_type": "code",
      "metadata": {
        "colab": {
          "base_uri": "https://localhost:8080/"
        },
        "id": "HYtm6P6NW5x1",
        "outputId": "2058d618-899c-4bd8-f09b-1a1c7319e871"
      },
      "source": [
        "from sklearn.metrics import classification_report\n",
        "print(classification_report(y_test,prediction2))"
      ],
      "execution_count": 30,
      "outputs": [
        {
          "output_type": "stream",
          "text": [
            "              precision    recall  f1-score   support\n",
            "\n",
            "           0       0.86      0.67      0.75       400\n",
            "           1       0.94      0.98      0.96      2079\n",
            "\n",
            "    accuracy                           0.93      2479\n",
            "   macro avg       0.90      0.82      0.86      2479\n",
            "weighted avg       0.93      0.93      0.93      2479\n",
            "\n"
          ],
          "name": "stdout"
        }
      ]
    },
    {
      "cell_type": "code",
      "metadata": {
        "colab": {
          "base_uri": "https://localhost:8080/"
        },
        "id": "xtPqJ3-_W5x1",
        "outputId": "91fb825c-2378-4dfc-dd11-0e1242fcc455"
      },
      "source": [
        "from sklearn.svm import SVC\n",
        "clf = SVC()\n",
        "clf.fit(x_train,y_train)"
      ],
      "execution_count": 31,
      "outputs": [
        {
          "output_type": "execute_result",
          "data": {
            "text/plain": [
              "SVC(C=1.0, break_ties=False, cache_size=200, class_weight=None, coef0=0.0,\n",
              "    decision_function_shape='ovr', degree=3, gamma='scale', kernel='rbf',\n",
              "    max_iter=-1, probability=False, random_state=None, shrinking=True,\n",
              "    tol=0.001, verbose=False)"
            ]
          },
          "metadata": {
            "tags": []
          },
          "execution_count": 31
        }
      ]
    },
    {
      "cell_type": "code",
      "metadata": {
        "id": "8D3WzY3fW5x2"
      },
      "source": [
        "prediction3=clf.predict(x_test)"
      ],
      "execution_count": 32,
      "outputs": []
    },
    {
      "cell_type": "code",
      "metadata": {
        "colab": {
          "base_uri": "https://localhost:8080/"
        },
        "id": "M_vQnksHW5x2",
        "outputId": "83f2fc7a-33c3-41b8-c980-444cd5ddc66e"
      },
      "source": [
        "from sklearn.metrics import accuracy_score\n",
        "acc3=accuracy_score(y_test,prediction3)\n",
        "acc3"
      ],
      "execution_count": 33,
      "outputs": [
        {
          "output_type": "execute_result",
          "data": {
            "text/plain": [
              "0.9427188382412263"
            ]
          },
          "metadata": {
            "tags": []
          },
          "execution_count": 33
        }
      ]
    },
    {
      "cell_type": "code",
      "metadata": {
        "colab": {
          "base_uri": "https://localhost:8080/"
        },
        "id": "foQqPP5-W5x2",
        "outputId": "039c470e-9268-45f6-d57c-dd19a8e96e40"
      },
      "source": [
        "from sklearn.metrics import classification_report\n",
        "print(classification_report(y_test,prediction3))"
      ],
      "execution_count": 34,
      "outputs": [
        {
          "output_type": "stream",
          "text": [
            "              precision    recall  f1-score   support\n",
            "\n",
            "           0       0.86      0.77      0.81       400\n",
            "           1       0.96      0.98      0.97      2079\n",
            "\n",
            "    accuracy                           0.94      2479\n",
            "   macro avg       0.91      0.87      0.89      2479\n",
            "weighted avg       0.94      0.94      0.94      2479\n",
            "\n"
          ],
          "name": "stdout"
        }
      ]
    },
    {
      "cell_type": "code",
      "metadata": {
        "colab": {
          "base_uri": "https://localhost:8080/"
        },
        "id": "WiDsqyFCW5x2",
        "outputId": "43949796-ea24-4fb7-9a3b-e95eac28dd1f"
      },
      "source": [
        "from sklearn.metrics import precision_score, recall_score, confusion_matrix, classification_report,accuracy_score, f1_score\n",
        "y_bar3=['accuracy_score', 'f1_score', 'recall_score', 'precision_score']\n",
        "x_bar3=[accuracy_score(y_test, prediction3),f1_score(y_test, prediction3) ,recall_score(y_test, prediction3) , precision_score(y_test, prediction3)]\n",
        "y_bar3"
      ],
      "execution_count": 35,
      "outputs": [
        {
          "output_type": "execute_result",
          "data": {
            "text/plain": [
              "['accuracy_score', 'f1_score', 'recall_score', 'precision_score']"
            ]
          },
          "metadata": {
            "tags": []
          },
          "execution_count": 35
        }
      ]
    },
    {
      "cell_type": "code",
      "metadata": {
        "colab": {
          "base_uri": "https://localhost:8080/",
          "height": 337
        },
        "id": "tAlRWUKZW5x2",
        "outputId": "5e772c90-fe99-49d1-81f8-43ddcc0c8dd2"
      },
      "source": [
        "fig = plt.figure()\n",
        "ax = fig.add_axes([0,0,1,1])\n",
        "ax.bar(y_bar3,x_bar3)\n",
        "plt.show()"
      ],
      "execution_count": 36,
      "outputs": [
        {
          "output_type": "display_data",
          "data": {
            "image/png": "[encoded data removed]",
            "text/plain": [
              "<Figure size 432x288 with 1 Axes>"
            ]
          },
          "metadata": {
            "tags": [],
            "needs_background": "light"
          }
        }
      ]
    },
    {
      "cell_type": "code",
      "metadata": {
        "colab": {
          "base_uri": "https://localhost:8080/"
        },
        "id": "A-Qz2F3GW5x3",
        "outputId": "d6228dfa-0b30-4052-c10e-6c7ac3f001c8"
      },
      "source": [
        "from sklearn.neighbors import KNeighborsClassifier\n",
        "neigh = KNeighborsClassifier(n_neighbors=3)\n",
        "neigh.fit(x_train,y_train)"
      ],
      "execution_count": 37,
      "outputs": [
        {
          "output_type": "execute_result",
          "data": {
            "text/plain": [
              "KNeighborsClassifier(algorithm='auto', leaf_size=30, metric='minkowski',\n",
              "                     metric_params=None, n_jobs=None, n_neighbors=3, p=2,\n",
              "                     weights='uniform')"
            ]
          },
          "metadata": {
            "tags": []
          },
          "execution_count": 37
        }
      ]
    },
    {
      "cell_type": "code",
      "metadata": {
        "id": "_O4DefI-W5x3"
      },
      "source": [
        "prediction4=neigh.predict(x_test)"
      ],
      "execution_count": 38,
      "outputs": []
    },
    {
      "cell_type": "code",
      "metadata": {
        "colab": {
          "base_uri": "https://localhost:8080/"
        },
        "id": "tNrHSPWiW5x3",
        "outputId": "e125534b-9683-414f-a401-f2261d82128e"
      },
      "source": [
        "from sklearn.metrics import accuracy_score\n",
        "acc4=accuracy_score(y_test,prediction4)\n",
        "acc4"
      ],
      "execution_count": 39,
      "outputs": [
        {
          "output_type": "execute_result",
          "data": {
            "text/plain": [
              "0.8793868495361032"
            ]
          },
          "metadata": {
            "tags": []
          },
          "execution_count": 39
        }
      ]
    },
    {
      "cell_type": "code",
      "metadata": {
        "colab": {
          "base_uri": "https://localhost:8080/"
        },
        "id": "imed6pdJW5x3",
        "outputId": "5ecc9886-48d0-44f0-b222-74f71f54814b"
      },
      "source": [
        "from sklearn.metrics import classification_report\n",
        "print(classification_report(y_test,prediction4))"
      ],
      "execution_count": 40,
      "outputs": [
        {
          "output_type": "stream",
          "text": [
            "              precision    recall  f1-score   support\n",
            "\n",
            "           0       0.74      0.39      0.51       400\n",
            "           1       0.89      0.97      0.93      2079\n",
            "\n",
            "    accuracy                           0.88      2479\n",
            "   macro avg       0.82      0.68      0.72      2479\n",
            "weighted avg       0.87      0.88      0.86      2479\n",
            "\n"
          ],
          "name": "stdout"
        }
      ]
    },
    {
      "cell_type": "code",
      "metadata": {
        "colab": {
          "base_uri": "https://localhost:8080/"
        },
        "id": "oa_C_be_W5x3",
        "outputId": "8294ae4a-fd19-4c76-dd11-e6b1c9beea06"
      },
      "source": [
        "from sklearn.metrics import precision_score, recall_score, confusion_matrix, classification_report,accuracy_score, f1_score\n",
        "y_bar4=['accuracy_score', 'f1_score', 'recall_score', 'precision_score']\n",
        "x_bar4=[accuracy_score(y_test, prediction4),f1_score(y_test, prediction4) ,recall_score(y_test, prediction4) , precision_score(y_test, prediction4)]\n",
        "y_bar4"
      ],
      "execution_count": 41,
      "outputs": [
        {
          "output_type": "execute_result",
          "data": {
            "text/plain": [
              "['accuracy_score', 'f1_score', 'recall_score', 'precision_score']"
            ]
          },
          "metadata": {
            "tags": []
          },
          "execution_count": 41
        }
      ]
    },
    {
      "cell_type": "code",
      "metadata": {
        "colab": {
          "base_uri": "https://localhost:8080/",
          "height": 337
        },
        "id": "HeO47RUHW5x4",
        "outputId": "3a6a8ee6-63e8-4ea5-a9f4-79c7c369fd91"
      },
      "source": [
        "fig = plt.figure()\n",
        "ax = fig.add_axes([0,0,1,1])\n",
        "ax.bar(y_bar4,x_bar4)\n",
        "plt.show()"
      ],
      "execution_count": 42,
      "outputs": [
        {
          "output_type": "display_data",
          "data": {
            "image/png": "[encoded data removed]",
            "text/plain": [
              "<Figure size 432x288 with 1 Axes>"
            ]
          },
          "metadata": {
            "tags": [],
            "needs_background": "light"
          }
        }
      ]
    },
    {
      "cell_type": "code",
      "metadata": {
        "colab": {
          "base_uri": "https://localhost:8080/"
        },
        "id": "QMcPGSD2W5x4",
        "outputId": "85633f58-9403-4f13-b9d6-6e8b9f9dc8c7"
      },
      "source": [
        "from sklearn.tree import DecisionTreeRegressor\n",
        "dtree=DecisionTreeRegressor()\n",
        "dtree.fit(x_train,y_train)"
      ],
      "execution_count": 43,
      "outputs": [
        {
          "output_type": "execute_result",
          "data": {
            "text/plain": [
              "DecisionTreeRegressor(ccp_alpha=0.0, criterion='mse', max_depth=None,\n",
              "                      max_features=None, max_leaf_nodes=None,\n",
              "                      min_impurity_decrease=0.0, min_impurity_split=None,\n",
              "                      min_samples_leaf=1, min_samples_split=2,\n",
              "                      min_weight_fraction_leaf=0.0, presort='deprecated',\n",
              "                      random_state=None, splitter='best')"
            ]
          },
          "metadata": {
            "tags": []
          },
          "execution_count": 43
        }
      ]
    },
    {
      "cell_type": "code",
      "metadata": {
        "id": "z5VHia3OW5x4"
      },
      "source": [
        "prediction5=dtree.predict(x_test)"
      ],
      "execution_count": 44,
      "outputs": []
    },
    {
      "cell_type": "code",
      "metadata": {
        "colab": {
          "base_uri": "https://localhost:8080/"
        },
        "id": "zcMOG_JiW5x5",
        "outputId": "560b8527-fc87-4fdd-fb05-97a8361ed906"
      },
      "source": [
        "from sklearn.metrics import accuracy_score\n",
        "acc5=accuracy_score(y_test,prediction5)\n",
        "acc5"
      ],
      "execution_count": 45,
      "outputs": [
        {
          "output_type": "execute_result",
          "data": {
            "text/plain": [
              "0.9338442920532473"
            ]
          },
          "metadata": {
            "tags": []
          },
          "execution_count": 45
        }
      ]
    },
    {
      "cell_type": "code",
      "metadata": {
        "colab": {
          "base_uri": "https://localhost:8080/"
        },
        "id": "EqrQx-OcW5x5",
        "outputId": "95b1f7d2-4a50-4c05-e0fb-fdc903919ff3"
      },
      "source": [
        "from sklearn.metrics import classification_report\n",
        "print(classification_report(y_test,prediction5))"
      ],
      "execution_count": 46,
      "outputs": [
        {
          "output_type": "stream",
          "text": [
            "              precision    recall  f1-score   support\n",
            "\n",
            "           0       0.77      0.83      0.80       400\n",
            "           1       0.97      0.95      0.96      2079\n",
            "\n",
            "    accuracy                           0.93      2479\n",
            "   macro avg       0.87      0.89      0.88      2479\n",
            "weighted avg       0.94      0.93      0.93      2479\n",
            "\n"
          ],
          "name": "stdout"
        }
      ]
    },
    {
      "cell_type": "code",
      "metadata": {
        "colab": {
          "base_uri": "https://localhost:8080/"
        },
        "id": "M1CbuiL1W5x5",
        "outputId": "108cd443-dca8-4d24-fdea-468abb39401c"
      },
      "source": [
        "from sklearn.metrics import precision_score, recall_score, confusion_matrix, classification_report,accuracy_score, f1_score\n",
        "y_bar5=['accuracy_score', 'f1_score', 'recall_score', 'precision_score']\n",
        "x_bar5=[accuracy_score(y_test, prediction5),f1_score(y_test, prediction5) ,recall_score(y_test, prediction5) , precision_score(y_test, prediction5)]\n",
        "y_bar5"
      ],
      "execution_count": 47,
      "outputs": [
        {
          "output_type": "execute_result",
          "data": {
            "text/plain": [
              "['accuracy_score', 'f1_score', 'recall_score', 'precision_score']"
            ]
          },
          "metadata": {
            "tags": []
          },
          "execution_count": 47
        }
      ]
    },
    {
      "cell_type": "code",
      "metadata": {
        "colab": {
          "base_uri": "https://localhost:8080/",
          "height": 337
        },
        "id": "Y4Yy7Sc5W5x5",
        "outputId": "acd9b55e-bd90-4e77-d916-4d9a3c00fb59"
      },
      "source": [
        "fig = plt.figure()\n",
        "ax = fig.add_axes([0,0,1,1])\n",
        "ax.bar(y_bar5,x_bar5)\n",
        "plt.show()"
      ],
      "execution_count": 48,
      "outputs": [
        {
          "output_type": "display_data",
          "data": {
            "image/png": "[encoded data removed]",
            "text/plain": [
              "<Figure size 432x288 with 1 Axes>"
            ]
          },
          "metadata": {
            "tags": [],
            "needs_background": "light"
          }
        }
      ]
    },
    {
      "cell_type": "code",
      "metadata": {
        "colab": {
          "base_uri": "https://localhost:8080/"
        },
        "id": "33gxTWluW5x5",
        "outputId": "4c20662e-4fa1-40c6-9987-57aa035cfa3b"
      },
      "source": [
        "from sklearn.ensemble import AdaBoostClassifier\n",
        "adb = AdaBoostClassifier(n_estimators=100, random_state=0)\n",
        "adb.fit(x_test,y_test)"
      ],
      "execution_count": 49,
      "outputs": [
        {
          "output_type": "execute_result",
          "data": {
            "text/plain": [
              "AdaBoostClassifier(algorithm='SAMME.R', base_estimator=None, learning_rate=1.0,\n",
              "                   n_estimators=100, random_state=0)"
            ]
          },
          "metadata": {
            "tags": []
          },
          "execution_count": 49
        }
      ]
    },
    {
      "cell_type": "code",
      "metadata": {
        "id": "CDrUeuMVW5x6"
      },
      "source": [
        "prediction6=adb.predict(x_test)"
      ],
      "execution_count": 50,
      "outputs": []
    },
    {
      "cell_type": "code",
      "metadata": {
        "colab": {
          "base_uri": "https://localhost:8080/"
        },
        "id": "JIOsMFDMW5x6",
        "outputId": "1ff0c308-50f6-4833-972e-bdeba2539175"
      },
      "source": [
        "from sklearn.metrics import accuracy_score\n",
        "acc6=accuracy_score(y_test,prediction6)\n",
        "acc6"
      ],
      "execution_count": 51,
      "outputs": [
        {
          "output_type": "execute_result",
          "data": {
            "text/plain": [
              "0.9673255344897136"
            ]
          },
          "metadata": {
            "tags": []
          },
          "execution_count": 51
        }
      ]
    },
    {
      "cell_type": "code",
      "metadata": {
        "colab": {
          "base_uri": "https://localhost:8080/"
        },
        "id": "dLY3_4eEW5x6",
        "outputId": "f65a6d1e-0c4e-497a-fb24-ace44566beac"
      },
      "source": [
        "from sklearn.metrics import classification_report\n",
        "print(classification_report(y_test,prediction6))"
      ],
      "execution_count": 52,
      "outputs": [
        {
          "output_type": "stream",
          "text": [
            "              precision    recall  f1-score   support\n",
            "\n",
            "           0       0.84      0.98      0.91       400\n",
            "           1       1.00      0.97      0.98      2079\n",
            "\n",
            "    accuracy                           0.97      2479\n",
            "   macro avg       0.92      0.97      0.94      2479\n",
            "weighted avg       0.97      0.97      0.97      2479\n",
            "\n"
          ],
          "name": "stdout"
        }
      ]
    },
    {
      "cell_type": "code",
      "metadata": {
        "colab": {
          "base_uri": "https://localhost:8080/"
        },
        "id": "gI8f_VY0W5x6",
        "outputId": "a7f96737-7329-4979-8a23-02abaa5a21fa"
      },
      "source": [
        "from sklearn.metrics import precision_score, recall_score, confusion_matrix, classification_report,accuracy_score, f1_score\n",
        "y_bar6=['accuracy_score', 'f1_score', 'Decision Tree', 'precision_score']\n",
        "x_bar6=[accuracy_score(y_test, prediction6),f1_score(y_test, prediction6) ,recall_score(y_test, prediction6) , precision_score(y_test, prediction6)]\n",
        "y_bar6"
      ],
      "execution_count": 53,
      "outputs": [
        {
          "output_type": "execute_result",
          "data": {
            "text/plain": [
              "['accuracy_score', 'f1_score', 'Decision Tree', 'precision_score']"
            ]
          },
          "metadata": {
            "tags": []
          },
          "execution_count": 53
        }
      ]
    },
    {
      "cell_type": "code",
      "metadata": {
        "colab": {
          "base_uri": "https://localhost:8080/",
          "height": 337
        },
        "id": "FTP8PaPEW5x6",
        "outputId": "efc15fde-b0f8-42ac-ce8b-54ab3cfb8208"
      },
      "source": [
        "fig = plt.figure()\n",
        "ax = fig.add_axes([0,0,1,1])\n",
        "ax.bar(y_bar6,x_bar6)\n",
        "plt.show()"
      ],
      "execution_count": 54,
      "outputs": [
        {
          "output_type": "display_data",
          "data": {
            "image/png": "[encoded data removed]",
            "text/plain": [
              "<Figure size 432x288 with 1 Axes>"
            ]
          },
          "metadata": {
            "tags": [],
            "needs_background": "light"
          }
        }
      ]
    },
    {
      "cell_type": "code",
      "metadata": {
        "colab": {
          "base_uri": "https://localhost:8080/"
        },
        "id": "vBHi9tqRW5x7",
        "outputId": "20ae0cb7-e45c-45b7-943f-e509a3e83d61"
      },
      "source": [
        "y_mod=['MNB','Logistic Regression','SVM', 'KNN','Decsion Tree' ,'Ada Boost','LSTM']\n",
        "x_acc=[acc,acc2,acc3,acc4,acc5,acc6,0.94]\n",
        "x_acc"
      ],
      "execution_count": 55,
      "outputs": [
        {
          "output_type": "execute_result",
          "data": {
            "text/plain": [
              "[0.8600242033077854,\n",
              " 0.9298104074223478,\n",
              " 0.9427188382412263,\n",
              " 0.8793868495361032,\n",
              " 0.9338442920532473,\n",
              " 0.9673255344897136,\n",
              " 0.94]"
            ]
          },
          "metadata": {
            "tags": []
          },
          "execution_count": 55
        }
      ]
    },
    {
      "cell_type": "code",
      "metadata": {
        "colab": {
          "base_uri": "https://localhost:8080/",
          "height": 336
        },
        "id": "4hj63YjJW5x7",
        "outputId": "ee8ffc73-8e23-4082-91b6-f2629b84a1b7"
      },
      "source": [
        "fig = plt.figure()\n",
        "ax = fig.add_axes([5,0,1,1])\n",
        "ax.bar(y_mod,x_acc)\n",
        "plt.show()"
      ],
      "execution_count": 56,
      "outputs": [
        {
          "output_type": "display_data",
          "data": {
            "image/png": "[encoded data removed]",
            "text/plain": [
              "<Figure size 432x288 with 1 Axes>"
            ]
          },
          "metadata": {
            "tags": [],
            "needs_background": "light"
          }
        }
      ]
    },
    {
      "cell_type": "code",
      "metadata": {
        "id": "XrA_ytg2W5x7"
      },
      "source": [
        ""
      ],
      "execution_count": 56,
      "outputs": []
    }
  ]
}